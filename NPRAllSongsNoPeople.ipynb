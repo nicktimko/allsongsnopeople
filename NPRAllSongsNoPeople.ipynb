{
 "cells": [
  {
   "cell_type": "code",
   "execution_count": 1,
   "metadata": {
    "collapsed": true
   },
   "outputs": [],
   "source": [
    "import os.path\n",
    "import shelve\n",
    "\n",
    "import feedparser\n",
    "import requests\n",
    "import parsel\n",
    "from pydub import AudioSegment as AS"
   ]
  },
  {
   "cell_type": "code",
   "execution_count": 2,
   "metadata": {
    "collapsed": false
   },
   "outputs": [],
   "source": [
    "asc_url = 'http://www.npr.org/sections/allsongs/163479981/our-show'\n",
    "response = requests.get(asc_url)\n",
    "sel = parsel.Selector(text=response.content.decode('utf-8'))"
   ]
  },
  {
   "cell_type": "code",
   "execution_count": null,
   "metadata": {
    "collapsed": false
   },
   "outputs": [],
   "source": []
  },
  {
   "cell_type": "code",
   "execution_count": 3,
   "metadata": {
    "collapsed": true
   },
   "outputs": [],
   "source": [
    "show_url = 'http://www.npr.org/sections/allsongs/2016/02/09/466146044/new-mix-shearwater-lily-madeleine-eskimeaux-more'"
   ]
  },
  {
   "cell_type": "code",
   "execution_count": 4,
   "metadata": {
    "collapsed": true
   },
   "outputs": [],
   "source": [
    "def xcls(cls):\n",
    "    return 'contains(concat(\" \", @class, \" \"), \" {} \")'.format(cls)"
   ]
  },
  {
   "cell_type": "code",
   "execution_count": 23,
   "metadata": {
    "collapsed": false
   },
   "outputs": [],
   "source": [
    "class Show(object):\n",
    "    def __init__(self, url):\n",
    "        self.url = url\n",
    "        self.bad = False\n",
    "        self.response = requests.get(url)\n",
    "        self.sel = parsel.Selector(self.response.content.decode('utf-8'))\n",
    "        \n",
    "        self.extract_timestamp()\n",
    "        if self.bad:\n",
    "            return\n",
    "        self.songs = self.count_songs()\n",
    "    \n",
    "    def extract_timestamp(self):\n",
    "        base_url = self.sel.xpath('//a[@class=\"download\"]/@href').extract_first()\n",
    "        if base_url is None:\n",
    "            self.bad = True\n",
    "            return\n",
    "        assert 'asc_wholeshow' in base_url\n",
    "        x = base_url.find('npr/asc/') + len('npr/asc/')\n",
    "        y = base_url.find('_asc_')\n",
    "        self.url_timestamp = base_url[x:y]\n",
    "        self.small_timestamp = self.url_timestamp[self.url_timestamp.rfind('/')+1:]\n",
    "        \n",
    "    def song_url(self, n):\n",
    "        return ('http://public.npr.org/anon.npr-mp3/npr/asc/{}_asc_{:02d}.mp3'\n",
    "                .format(self.url_timestamp, n))\n",
    "    \n",
    "    def count_songs(self):\n",
    "        songs = []\n",
    "        selectors = self.sel.xpath('//*[{}]//*[{}]'.format(\n",
    "                xcls('playlistwrap'), \n",
    "                xcls('playlistitem'),\n",
    "        ))\n",
    "        for n, s in enumerate(selectors, start=1):\n",
    "            def subsel(cls):\n",
    "                text = (s.xpath('.//*[{}]/text()'.format(xcls(cls)))\n",
    "                         .extract_first())\n",
    "                if text is not None:\n",
    "                    return text.strip()\n",
    "                return text\n",
    "            \n",
    "            song = {\n",
    "                '_title': (s\n",
    "                    .xpath('.//h4/a/text()')\n",
    "                    .extract_first()\n",
    "                    .strip()),\n",
    "                'song': subsel('song'),\n",
    "                'artist': subsel('artist'),\n",
    "                'album': subsel('album'),\n",
    "                'url': self.song_url(n),\n",
    "            }\n",
    "            if song['song'] is None:\n",
    "                song['song'] = song.pop('_title')\n",
    "            elif song['artist'] is None:\n",
    "                song['artist'] = song.pop('_title')\n",
    "            \n",
    "            url = song['url']\n",
    "            song['save_as'] = os.path.join('songs', url[url.rfind('/')+1:])\n",
    "            \n",
    "            songs.append(song)\n",
    "        return songs\n",
    "        \n",
    "    def __iter__(self):\n",
    "        yield from self.songs\n",
    "        \n",
    "    def download(self, song):\n",
    "        r = requests.get(song['url'], stream=True)\n",
    "        with open(song['save_as'], 'wb') as f:\n",
    "            for chunk in r.iter_content(chunk_size=1024): \n",
    "                if chunk:\n",
    "                    f.write(chunk)\n",
    "        \n",
    "    def scrape(self):\n",
    "        for song in self:\n",
    "            self.download(song)\n",
    "\n",
    "    def assemble(self):\n",
    "        stitched = sum(AS.from_file(s['save_as']) for s in self)\n",
    "        stitched.export(os.path.join('shows', self.small_timestamp + '_asnp.mp3'))"
   ]
  },
  {
   "cell_type": "code",
   "execution_count": 9,
   "metadata": {
    "collapsed": false
   },
   "outputs": [],
   "source": [
    "show = Show(show_url)"
   ]
  },
  {
   "cell_type": "code",
   "execution_count": 10,
   "metadata": {
    "collapsed": false
   },
   "outputs": [],
   "source": [
    "show.assemble()"
   ]
  },
  {
   "cell_type": "code",
   "execution_count": 165,
   "metadata": {
    "collapsed": false
   },
   "outputs": [
    {
     "data": {
      "text/plain": [
       "(\"unsupported operand type(s) for +: 'int' and 'AudioSegment'\",)"
      ]
     },
     "execution_count": 165,
     "metadata": {},
     "output_type": "execute_result"
    }
   ],
   "source": []
  },
  {
   "cell_type": "code",
   "execution_count": 144,
   "metadata": {
    "collapsed": false
   },
   "outputs": [
    {
     "data": {
      "text/plain": [
       "'2016/02/20160209'"
      ]
     },
     "execution_count": 144,
     "metadata": {},
     "output_type": "execute_result"
    }
   ],
   "source": [
    "show.url_timestamp"
   ]
  },
  {
   "cell_type": "code",
   "execution_count": 150,
   "metadata": {
    "collapsed": false
   },
   "outputs": [
    {
     "data": {
      "text/plain": [
       "<_io.BufferedRandom name='shows/20160209.mp3'>"
      ]
     },
     "execution_count": 150,
     "metadata": {},
     "output_type": "execute_result"
    }
   ],
   "source": [
    "ss.export(os.path.join('shows', show.small_timestamp + '_asnp.mp3'))"
   ]
  },
  {
   "cell_type": "code",
   "execution_count": null,
   "metadata": {
    "collapsed": true
   },
   "outputs": [],
   "source": []
  },
  {
   "cell_type": "code",
   "execution_count": 18,
   "metadata": {
    "collapsed": false
   },
   "outputs": [],
   "source": [
    "bad_shows = [\n",
    "    'http://www.npr.org/sections/allsongs/2016/02/05/465551231/all-songs-1-andrew-bird-gets-personal',\n",
    "    'http://www.npr.org/sections/allsongs/2016/01/15/463163048/all-songs-1-glen-hansard-plays-our-sweet-16-celebration',\n",
    "]\n",
    "good_shows = [\n",
    "    'http://www.npr.org/sections/allsongs/2016/01/26/463484599/our-top-discoveries-at-globalfest-2016',\n",
    "    'http://www.npr.org/sections/allsongs/2016/02/09/466146044/new-mix-shearwater-lily-madeleine-eskimeaux-more',\n",
    "]\n",
    "\n",
    "for su in bad_shows:\n",
    "    show = Show(su)\n",
    "    assert show.bad\n",
    "for su in good_shows:\n",
    "    show = Show(su)\n",
    "    assert not show.bad"
   ]
  },
  {
   "cell_type": "code",
   "execution_count": null,
   "metadata": {
    "collapsed": true
   },
   "outputs": [],
   "source": []
  },
  {
   "cell_type": "code",
   "execution_count": 31,
   "metadata": {
    "collapsed": false
   },
   "outputs": [],
   "source": [
    "import feedparser\n",
    "\n",
    "rss_url = 'http://www.npr.org/rss/rss.php?id=163479981'\n",
    "# podcast_url = 'http://www.npr.org/templates/rss/podlayer.php?id=15709577'\n",
    "rss = feedparser.parse(rss_url)\n",
    "# podcast = feedparser.parse(podcast_url)\n",
    "\n",
    "links = [ent['link'] for ent in rss['entries']]\n",
    "\n",
    "for link in links[:5]:\n",
    "   show = Show(link)\n",
    "   print(show.bad)"
   ]
  },
  {
   "cell_type": "code",
   "execution_count": null,
   "metadata": {
    "collapsed": true
   },
   "outputs": [],
   "source": []
  },
  {
   "cell_type": "code",
   "execution_count": null,
   "metadata": {
    "collapsed": true
   },
   "outputs": [],
   "source": []
  }
 ],
 "metadata": {
  "kernelspec": {
   "display_name": "Python 3",
   "language": "python",
   "name": "python3"
  },
  "language_info": {
   "codemirror_mode": {
    "name": "ipython",
    "version": 3
   },
   "file_extension": ".py",
   "mimetype": "text/x-python",
   "name": "python",
   "nbconvert_exporter": "python",
   "pygments_lexer": "ipython3",
   "version": "3.5.1"
  }
 },
 "nbformat": 4,
 "nbformat_minor": 0
}
