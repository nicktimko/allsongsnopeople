{
 "cells": [
  {
   "cell_type": "code",
   "execution_count": 5,
   "metadata": {
    "collapsed": true
   },
   "outputs": [],
   "source": [
    "import requests\n",
    "import parsel"
   ]
  },
  {
   "cell_type": "code",
   "execution_count": 162,
   "metadata": {
    "collapsed": false
   },
   "outputs": [],
   "source": [
    "asc_url = 'http://www.npr.org/sections/allsongs/163479981/our-show'\n",
    "response = requests.get(asc_url)\n",
    "sel = parsel.Selector(text=response.content.decode('utf-8'))"
   ]
  },
  {
   "cell_type": "code",
   "execution_count": 80,
   "metadata": {
    "collapsed": false
   },
   "outputs": [],
   "source": []
  },
  {
   "cell_type": "code",
   "execution_count": 161,
   "metadata": {
    "collapsed": true
   },
   "outputs": [],
   "source": [
    "links = sel.xpath('//h1/a').extract()"
   ]
  },
  {
   "cell_type": "code",
   "execution_count": 164,
   "metadata": {
    "collapsed": true
   },
   "outputs": [],
   "source": [
    "show_url = 'http://www.npr.org/sections/allsongs/2016/02/09/466146044/new-mix-shearwater-lily-madeleine-eskimeaux-more'\n",
    "content = response.content.decode('utf-8')\n",
    "showsel = parsel.Selector(content)"
   ]
  },
  {
   "cell_type": "code",
   "execution_count": 163,
   "metadata": {
    "collapsed": false
   },
   "outputs": [
    {
     "data": {
      "text/plain": [
       "[<Selector xpath='//*[@class=\"audio listen\"]/@data-player' data='{\"storyId\":\"466146044\",\"mediaId\":\"466147'>,\n",
       " <Selector xpath='//*[@class=\"audio listen\"]/@data-player' data='{\"storyId\":\"466146044\",\"mediaId\":\"466147'>,\n",
       " <Selector xpath='//*[@class=\"audio listen\"]/@data-player' data='{\"storyId\":\"466146044\",\"mediaId\":\"466147'>,\n",
       " <Selector xpath='//*[@class=\"audio listen\"]/@data-player' data='{\"storyId\":\"466146044\",\"mediaId\":\"466173'>,\n",
       " <Selector xpath='//*[@class=\"audio listen\"]/@data-player' data='{\"storyId\":\"466146044\",\"mediaId\":\"466147'>,\n",
       " <Selector xpath='//*[@class=\"audio listen\"]/@data-player' data='{\"storyId\":\"466146044\",\"mediaId\":\"466147'>,\n",
       " <Selector xpath='//*[@class=\"audio listen\"]/@data-player' data='{\"storyId\":\"466146044\",\"mediaId\":\"466147'>,\n",
       " <Selector xpath='//*[@class=\"audio listen\"]/@data-player' data='{\"storyId\":\"466146044\",\"mediaId\":\"466147'>]"
      ]
     },
     "execution_count": 163,
     "metadata": {},
     "output_type": "execute_result"
    }
   ],
   "source": [
    "showsel.xpath('//*[@class=\"audio listen\"]/@data-player')"
   ]
  },
  {
   "cell_type": "code",
   "execution_count": 165,
   "metadata": {
    "collapsed": true
   },
   "outputs": [],
   "source": [
    "import parsel\n",
    "import requests\n",
    "\n",
    "class Show(object):\n",
    "    def __init__(self, url):\n",
    "        self.url = url\n",
    "        self.response = requests.get(url, headers={\n",
    "            'User-Agent': 'Mozilla/5.0 (iPhone; CPU iPhone OS 9_1 like Mac OS X) '\n",
    "                          'AppleWebKit/601.1.46 (KHTML, like Gecko) '\n",
    "                          'Version/9.0 Mobile/13B143 Safari/601.1',\n",
    "        })\n",
    "        self.sel = parsel.Selector(self.response.content.decode('utf-8'))\n",
    "        \n",
    "        self.extract_timestamp()\n",
    "        self.count_songs()\n",
    "    \n",
    "    def extract_timestamp(self):\n",
    "        base_url = self.sel.xpath('//a[@class=\"download\"]/@href').extract_first()\n",
    "        assert 'asc_wholeshow' in base_url\n",
    "        x = base_url.find('npr/asc/') + len('npr/asc/')\n",
    "        y = base_url.find('_asc_')\n",
    "        self.url_timestamp = base_url[x:y]\n",
    "        \n",
    "    def song_url(self, n):\n",
    "        return ('http://public.npr.org/anon.npr-mp3/npr/asc/{}_asc_{:02d}.mp3'\n",
    "                .format(self.url_timestamp, n))\n",
    "    \n",
    "    def count_songs(self):\n",
    "        self.n_songs = len(self.sel.xpath('//*[@class=\"audio listen\"]/@data-player'))\n",
    "        \n",
    "    def song_urls(self):\n",
    "        for n in range(1, self.n_songs + 1):\n",
    "            yield self.song_url(n)"
   ]
  },
  {
   "cell_type": "code",
   "execution_count": 166,
   "metadata": {
    "collapsed": false
   },
   "outputs": [],
   "source": [
    "show = Show(show_url)"
   ]
  },
  {
   "cell_type": "code",
   "execution_count": 168,
   "metadata": {
    "collapsed": false
   },
   "outputs": [],
   "source": [
    "for url in show.song_urls():\n",
    "    response = requests.get(url)\n",
    "    save_as = url[url.rfind('/')+1:]\n",
    "    with open(save_as, 'wb') as f:\n",
    "        f.write(response.content)"
   ]
  },
  {
   "cell_type": "code",
   "execution_count": null,
   "metadata": {
    "collapsed": true
   },
   "outputs": [],
   "source": [
    "bad_shows = [\n",
    "    'http://www.npr.org/sections/allsongs/2016/02/05/465551231/all-songs-1-andrew-bird-gets-personal',\n",
    "    'http://www.npr.org/sections/allsongs/2016/01/15/463163048/all-songs-1-glen-hansard-plays-our-sweet-16-celebration',\n",
    "]\n",
    "good_shows = [\n",
    "    'http://www.npr.org/sections/allsongs/2016/01/26/463484599/our-top-discoveries-at-globalfest-2016',\n",
    "    'http://www.npr.org/sections/allsongs/2016/02/09/466146044/new-mix-shearwater-lily-madeleine-eskimeaux-more',\n",
    "]"
   ]
  },
  {
   "cell_type": "code",
   "execution_count": null,
   "metadata": {
    "collapsed": true
   },
   "outputs": [],
   "source": [
    "def "
   ]
  }
 ],
 "metadata": {
  "kernelspec": {
   "display_name": "Python 3",
   "language": "python",
   "name": "python3"
  },
  "language_info": {
   "codemirror_mode": {
    "name": "ipython",
    "version": 3
   },
   "file_extension": ".py",
   "mimetype": "text/x-python",
   "name": "python",
   "nbconvert_exporter": "python",
   "pygments_lexer": "ipython3",
   "version": "3.5.1"
  }
 },
 "nbformat": 4,
 "nbformat_minor": 0
}
